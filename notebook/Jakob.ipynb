{
 "cells": [
  {
   "cell_type": "code",
   "execution_count": 5,
   "metadata": {},
   "outputs": [
    {
     "name": "stdout",
     "output_type": "stream",
     "text": [
      "45.26366581533504\n",
      "0.7853981633974483\n"
     ]
    }
   ],
   "source": [
    "import math\n",
    "\n",
    "print(math.degrees(0.79)) # конвертирует радианы в градусы.\n",
    "print(math.radians(45))   # конвертирует градусы в радианы. math\n",
    "\n",
    "\n"
   ]
  },
  {
   "attachments": {},
   "cell_type": "markdown",
   "metadata": {},
   "source": [
    "Округления\n"
   ]
  },
  {
   "cell_type": "code",
   "execution_count": 15,
   "metadata": {},
   "outputs": [
    {
     "name": "stdout",
     "output_type": "stream",
     "text": [
      "-6\n",
      "-6\n",
      "-6\n",
      "-7\n"
     ]
    }
   ],
   "source": [
    "# Округление до ближайшего большего числа\n",
    "r=-6.5\n",
    "\n",
    "print(math.ceil(r))\n",
    "\n",
    "print(math.trunc(r)) #обрезает числo до целого \n",
    "\n",
    "print(round(r))\n",
    "\n",
    "print(math.floor(r))"
   ]
  },
  {
   "cell_type": "code",
   "execution_count": null,
   "metadata": {},
   "outputs": [],
   "source": [
    "math.fabs(-6)\n",
    "#модуль числа\n",
    "\n"
   ]
  },
  {
   "cell_type": "code",
   "execution_count": null,
   "metadata": {},
   "outputs": [],
   "source": [
    "Факториал числа"
   ]
  },
  {
   "cell_type": "code",
   "execution_count": 29,
   "metadata": {},
   "outputs": [
    {
     "name": "stdout",
     "output_type": "stream",
     "text": [
      "2432902008176640000\n",
      "--- 0.05901288986206055 seconds ---\n",
      "51090942171709440000\n",
      "--- 0.04999351501464844 seconds ---\n"
     ]
    }
   ],
   "source": [
    "import time\n",
    "d=20\n",
    "start_time = time.time()\n",
    "for i in range(100000):\n",
    "    math.factorial(d) \n",
    "print(math.factorial(d) )\n",
    "print(\"--- %s seconds ---\" % (time.time() - start_time))\n",
    "\n",
    "d=d+1\n",
    "start_time = time.time()\n",
    "for i in range(100000):\n",
    "    math.factorial(d)\n",
    "print(math.factorial(d))\n",
    "print(\"--- %s seconds ---\" % (time.time() - start_time))\n",
    "\n"
   ]
  },
  {
   "cell_type": "code",
   "execution_count": 30,
   "metadata": {},
   "outputs": [
    {
     "name": "stdout",
     "output_type": "stream",
     "text": [
      "2432902008176640000\n",
      "--- 0.3359994888305664 seconds ---\n",
      "51090942171709440000\n",
      "--- 0.0169985294342041 seconds ---\n"
     ]
    }
   ],
   "source": [
    "d=20\n",
    "start_time = time.time()\n",
    "for i in range(100000):\n",
    "  f=1\n",
    "  for i in range(2,d+1):\n",
    "      f=f*i\n",
    "print (f)\n",
    "print(\"--- %s seconds ---\" % (time.time() - start_time))\n",
    "\n",
    "start_time = time.time()\n",
    "for i in range(100000):\n",
    "    f*(d+1)\n",
    "print(f*(d+1))\n",
    "print(\"--- %s seconds ---\" % (time.time() - start_time))"
   ]
  },
  {
   "cell_type": "code",
   "execution_count": 19,
   "metadata": {},
   "outputs": [
    {
     "name": "stdout",
     "output_type": "stream",
     "text": [
      "--- 0.011996269226074219 seconds ---\n",
      "--- 0.052997589111328125 seconds ---\n"
     ]
    }
   ],
   "source": [
    "# остаток от деления \n",
    "\n",
    "import time\n",
    "start_time = time.time()\n",
    "for i in range(100000):\n",
    "  d%a\n",
    "print(\"--- %s seconds ---\" % (time.time() - start_time))\n",
    "\n",
    "\n",
    "start_time = time.time()\n",
    "for i in range(100000):\n",
    "  math.fmod(d, a) \n",
    "print(\"--- %s seconds ---\" % (time.time() - start_time))\n",
    "\n"
   ]
  },
  {
   "cell_type": "code",
   "execution_count": null,
   "metadata": {},
   "outputs": [],
   "source": [
    "math.pow(2, 2)\n",
    "#возведение в степень\n",
    "\n",
    "2**2\n",
    "#возведение в степень\n",
    "\n"
   ]
  },
  {
   "cell_type": "markdown",
   "metadata": {},
   "source": [
    "Тригонометирия"
   ]
  },
  {
   "cell_type": "code",
   "execution_count": 33,
   "metadata": {},
   "outputs": [
    {
     "name": "stdout",
     "output_type": "stream",
     "text": [
      "0.49999999999999994\n",
      "0.8660254037844387\n",
      "0.5773502691896257\n"
     ]
    }
   ],
   "source": [
    "t=30\n",
    "t=math.radians(t)#конвертирует градусы в радианы.\n",
    "print(math.sin(t))\n",
    "\n",
    "t=30\n",
    "t=math.radians(t)\n",
    "print(math.cos(t))\n",
    "\n",
    "t=30\n",
    "t=math.radians(t)\n",
    "print(math.tan(t))\n",
    "\n"
   ]
  },
  {
   "cell_type": "code",
   "execution_count": null,
   "metadata": {},
   "outputs": [],
   "source": [
    "math.sqrt(25)\n",
    "#квадратный корень из числа\n",
    "\n",
    "4**0.5\n",
    "#квадратный корень из числа\n",
    "\n",
    "math.hypot(3, 4)#вычисляет гипотенузу треугольника \n",
    "(math.sqrt(5 * 5 + 7 * 7))\n",
    "\n",
    "\n"
   ]
  },
  {
   "cell_type": "code",
   "execution_count": null,
   "metadata": {},
   "outputs": [],
   "source": []
  }
 ],
 "metadata": {
  "kernelspec": {
   "display_name": "Python 3",
   "language": "python",
   "name": "python3"
  },
  "language_info": {
   "codemirror_mode": {
    "name": "ipython",
    "version": 3
   },
   "file_extension": ".py",
   "mimetype": "text/x-python",
   "name": "python",
   "nbconvert_exporter": "python",
   "pygments_lexer": "ipython3",
   "version": "3.8.5"
  }
 },
 "nbformat": 4,
 "nbformat_minor": 4
}
